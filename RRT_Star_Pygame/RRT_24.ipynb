{
  "nbformat": 4,
  "nbformat_minor": 0,
  "metadata": {
    "colab": {
      "provenance": []
    },
    "kernelspec": {
      "name": "python3",
      "display_name": "Python 3"
    },
    "language_info": {
      "name": "python"
    }
  },
  "cells": [
    {
      "cell_type": "code",
      "execution_count": 1,
      "metadata": {
        "colab": {
          "base_uri": "https://localhost:8080/"
        },
        "id": "aJe-vjirUA0h",
        "outputId": "711a82c0-7fb5-4043-be37-c8e0f0e1802a"
      },
      "outputs": [
        {
          "output_type": "stream",
          "name": "stdout",
          "text": [
            "Requirement already satisfied: pygame in /usr/local/lib/python3.10/dist-packages (2.5.2)\n",
            "pygame 2.5.2 (SDL 2.28.2, Python 3.10.12)\n",
            "Hello from the pygame community. https://www.pygame.org/contribute.html\n"
          ]
        }
      ],
      "source": [
        "## Intalling Preliminaries\n",
        "\n",
        "!pip install pygame\n",
        "import numpy as np\n",
        "import os\n",
        "os.environ['SDL_VIDEODRIVER']='dummy'\n",
        "import pygame as pg\n",
        "import random\n",
        "from google.colab.patches import cv2_imshow\n",
        "from google.colab import output"
      ]
    },
    {
      "cell_type": "code",
      "source": [
        "class Obstacle:\n",
        "  def __init__(self,corner, dims):\n",
        "      self.corner = corner\n",
        "      self.dims = dims\n",
        "      self.rect = pg.Rect(self.corner,self.dims)\n",
        "      self.points = np.zeros((4,2))\n",
        "      self.calc_dims()\n",
        "\n",
        "  def calc_dims(self):\n",
        "      self.points[0,:] = np.asarray(self.corner)\n",
        "      self.points[1,:] = np.asarray((self.corner[0]*self.dims[0],self.corner[1]))\n",
        "      self.points[2,:] = np.asarray((self.corner[0]*self.dims[0],self.corner[1]*self.dims[1]))\n",
        "      self.points[3,:] = np.asarray((self.corner[0],self.corner[1]*self.dims[1]))\n",
        "\n",
        "  def isIntersecting(self,parent,child):\n",
        "      if self.rect.clipline((child.x,child.y),(parent.x,parent.y)):\n",
        "          return True\n",
        "      else:\n",
        "          return False\n",
        "\n"
      ],
      "metadata": {
        "id": "yGwJFiClYKtm"
      },
      "execution_count": 2,
      "outputs": []
    },
    {
      "cell_type": "code",
      "source": [
        "\n",
        "class MapGenerator:\n",
        "  def __init__(self, width = 540, height = 540, start = (20,40), goal = (400,300)):\n",
        "    self.mapDim = (width, height)\n",
        "    self.width = width\n",
        "    self.height = height\n",
        "    self.goal = goal\n",
        "    self.start = start\n",
        "\n",
        "\n",
        "    pg.init()\n",
        "    pg.display.set_caption('RRT path planning')\n",
        "    self.map = pg.display.set_mode(self.mapDim)\n",
        "    self.map.fill((255,255,255))\n",
        "\n",
        "    self.ORANGE = (32,100,255) #BGR\n",
        "    self.RED = (32,60,201)#(201,60,32)\n",
        "    self.BLACK = (0,0,0)\n",
        "    self.GREEN = (68,171,27)\n",
        "    self.WHITE = (255,255,255)\n",
        "    self.GRAY = (92, 94, 92)\n",
        "    self.YELLOW = (52, 158, 235) #(3, 252, 223)\n",
        "\n",
        "    self.MAX_OBSTACLE_SIZE = 100\n",
        "    self.MIN_OBSTACLE_SIZE = 50\n",
        "    self.NUM_OBSTACLES = 10\n",
        "    self.obstacles = []\n",
        "\n",
        "  def drawSample(self,p1,p2):\n",
        "    # print(\"here\")\n",
        "    pg.draw.circle(self.map, self.ORANGE,(p1,p2),0,2)\n",
        "\n",
        "  def connectNodes(self, n1,n2):\n",
        "    pg.draw.line(self.map, self.BLACK, n1,n2)\n",
        "\n",
        "  def connectFinalPath(self, colour, n1, n2):\n",
        "    if(colour is None):\n",
        "      colour = self.GREEN\n",
        "    pg.draw.line(self.map, colour, n1,n2, width=3)\n",
        "\n",
        "  def collisonFree(self,rect):\n",
        "    if(not self.obstacles):\n",
        "      return True\n",
        "    else:\n",
        "      for obstacle in self.obstacles:\n",
        "          if rect.colliderect(obstacle.rect): # in-built Pygame function\n",
        "              return False\n",
        "      return True\n",
        "\n",
        "  def generateObstacleDimension(self):\n",
        "    obstacleDimX = random.randint(self.MIN_OBSTACLE_SIZE,self.MAX_OBSTACLE_SIZE)\n",
        "    obstacleDimY = random.randint(self.MIN_OBSTACLE_SIZE,self.MAX_OBSTACLE_SIZE)\n",
        "    upper_x = random.randint(0,self.width-obstacleDimX)\n",
        "    upper_y = random.randint(0,self.height-obstacleDimY)\n",
        "    return [obstacleDimX,obstacleDimY,upper_x,upper_y]\n",
        "\n",
        "  def showMap(self):\n",
        "    image = pg.surfarray.array3d(self.map)\n",
        "    image = image.transpose([1, 0, 2])\n",
        "    output.clear(wait=True)\n",
        "    cv2_imshow(image)\n",
        "\n",
        "  def draw_start_end(self):\n",
        "    pg.draw.circle(self.map, self.GREEN, self.start, 7, 0)\n",
        "    pg.draw.circle(self.map, self.RED, self.goal, 7, 0)\n",
        "\n",
        "  def draw_obstacle(self):\n",
        "    for obstacle in self.obstacles:\n",
        "        pg.draw.rect(self.map,self.BLACK,obstacle.rect)\n",
        "\n",
        "  def generateObstacle(self):\n",
        "    for i in range(self.NUM_OBSTACLES):\n",
        "      # print(i)\n",
        "      valid = False\n",
        "      while(not valid):\n",
        "        obs_dim = self.generateObstacleDimension()\n",
        "        # print(obs_dim)\n",
        "        rect = pg.Rect((obs_dim[2],obs_dim[3]), (obs_dim[0],obs_dim[1]))\n",
        "        if(not rect.collidepoint(self.start) and not rect.collidepoint(self.goal) and self.collisonFree(rect)):\n",
        "            valid = True\n",
        "      self.obstacles.append(Obstacle( (obs_dim[2],obs_dim[3]), (obs_dim[0],obs_dim[1]) ))\n",
        "      # print(self.obstacles)\n",
        "\n",
        "  def generate_map(self):\n",
        "        self.generateObstacle()\n",
        "        self.draw_obstacle()\n",
        "        self.draw_start_end()\n",
        "        self.showMap()\n"
      ],
      "metadata": {
        "id": "mZpIc4Utb-4f"
      },
      "execution_count": 50,
      "outputs": []
    },
    {
      "cell_type": "code",
      "source": [
        "class Node:\n",
        "  def __init__(self, id, x, y):\n",
        "    self.x = x\n",
        "    self.y = y\n",
        "    self.id = id\n",
        "    self.parent = None\n",
        "    self.array = np.asarray((x,y)).reshape(1,-1)\n",
        "    self.cost = 0\n",
        "    self.optimFlag = False\n",
        "    self.vis = float('inf')\n"
      ],
      "metadata": {
        "id": "rtLuK3LFGClh"
      },
      "execution_count": 4,
      "outputs": []
    },
    {
      "cell_type": "code",
      "source": [
        "class Graph:\n",
        "  def __init__(self, startPos, goal):\n",
        "    self.start = Node(0,startPos[0], startPos[1])\n",
        "    self.goal = Node(-1, goal[0], goal[1])\n",
        "    self.vertices = []\n",
        "    self.edges = {}\n",
        "    self.pointsArray = []\n",
        "\n",
        "\n",
        "    self.start.cost = 0\n",
        "    self.vertices = [self.start]\n",
        "    self.edges = {self.start.id:[]}\n",
        "    self.pointsArray = np.asarray(startPos).reshape(-1,2)\n",
        "\n",
        "  def addNode(self, n1, n2):\n",
        "    n2.id = len(self.vertices)\n",
        "    # print(n1.id)\n",
        "    # print(\"n2.id\", n2.id)\n",
        "    n2.parent = n1.id\n",
        "    dist = np.linalg.norm(n2.array - n1.array)\n",
        "    n2.cost = n1.cost + dist\n",
        "    self.vertices.append(n2)\n",
        "    nodeAsArray = np.asarray((n2.x, n2.y)).reshape(-1,2)\n",
        "    self.pointsArray = np.append(self.pointsArray, nodeAsArray, axis = 0)\n",
        "\n",
        "    if(n1.id in self.edges):\n",
        "      self.edges[n1.id].append(n2.id)\n",
        "    else:\n",
        "      self.edges[n1.id] = [n2.id]\n",
        "\n"
      ],
      "metadata": {
        "id": "3VQfLWKyiDoe"
      },
      "execution_count": 5,
      "outputs": []
    },
    {
      "cell_type": "code",
      "source": [
        "class RRT():\n",
        "  def __init__(self, map, graph):\n",
        "    self.stepSize = 10\n",
        "    self.map = map\n",
        "    self.graph = graph\n",
        "    self.currSample = None\n",
        "    self.parent = None\n",
        "    self.sampleRandom()\n",
        "    self.finalCost = 0\n",
        "\n",
        "  def sampleRandom(self):\n",
        "    x = int(random.uniform(0,self.map.width))\n",
        "    y = int(random.uniform(0, self.map.height))\n",
        "    self.currSample = Node(-2, x, y)\n",
        "\n",
        "  def getPointFromRandomSample(self):\n",
        "    vector = self.currSample.array - self.parent.array\n",
        "    unitVector = vector / np.linalg.norm(vector)\n",
        "    point = self.parent.array + unitVector*self.stepSize\n",
        "    return Node(-2, point[0,0], point[0,1])\n",
        "\n",
        "  def findNearest(self):\n",
        "    dist = np.linalg.norm(self.graph.pointsArray - self.currSample.array, axis = 1).reshape(-1,1)\n",
        "    nearestNodeid = np.argmin(dist)\n",
        "    nearestDist = dist[nearestNodeid]\n",
        "    # print(self.graph.vertices[nearestNodeid])\n",
        "    return self.graph.vertices[nearestNodeid], nearestDist\n",
        "\n",
        "  def isObstacleFree(self):\n",
        "    for obs in self.map.obstacles:\n",
        "      if(obs.rect.collidepoint((self.currSample.x,self.currSample.y))):\n",
        "          return False\n",
        "      else:\n",
        "          if(obs.isIntersecting(self.parent,self.currSample)):\n",
        "           return False\n",
        "    return True\n",
        "\n",
        "  def checkCollision(self):\n",
        "    self.parent, dist = self.findNearest()\n",
        "    if(dist > self.stepSize):\n",
        "      self.currSample = self.getPointFromRandomSample()\n",
        "      dist = self.stepSize\n",
        "\n",
        "    if(self.isObstacleFree()):\n",
        "      return self.currSample\n",
        "    else:\n",
        "      return None\n",
        "\n",
        "  def is_Goal_Reached(self):\n",
        "    if np.linalg.norm(self.currSample.array-self.graph.goal.array) < 10:\n",
        "        return True\n",
        "    else:\n",
        "        return False\n",
        "\n",
        "  def backTrack(self):\n",
        "    curr = self.currSample\n",
        "    while(curr.id != 0):\n",
        "      self.finalCost += curr.cost\n",
        "      parent = self.graph.vertices[curr.parent]\n",
        "      self.map.connectFinalPath(None, (parent.x, parent.y), (curr.x, curr.y))\n",
        "      curr = parent\n",
        "\n",
        "  def rrt(self):\n",
        "    i = 0\n",
        "    while(not self.is_Goal_Reached()):\n",
        "      i += 1\n",
        "      self.sampleRandom()\n",
        "\n",
        "      while(self.checkCollision() is None): # sample until a point in free space is found\n",
        "        self.sampleRandom()\n",
        "      # print(self.parent)\n",
        "      # print(\"here1\")\n",
        "      self.graph.addNode(self.parent, self.currSample)\n",
        "      self.map.drawSample(self.currSample.x, self.currSample.y)\n",
        "      self.map.connectNodes((self.parent.x, self.parent.y), (self.currSample.x, self.currSample.y))\n",
        "      if(i // 2 == 0):\n",
        "        self.map.showMap()\n",
        "\n",
        "    self.graph.addNode(self.parent, self.currSample) # To add last point to the Graph\n",
        "    self.backTrack()\n",
        "    self.map.showMap()\n",
        "    print(self.finalCost)"
      ],
      "metadata": {
        "id": "ibfy539ul3Wn"
      },
      "execution_count": 54,
      "outputs": []
    },
    {
      "cell_type": "code",
      "source": [
        "## RRT\n",
        "\n",
        "start = (20,40)\n",
        "goal = (400,300)\n",
        "map = MapGenerator(start=start,goal=goal)\n",
        "map.generate_map()\n",
        "MAP = map.map.copy()\n",
        "graph1 = Graph(start,goal)\n",
        "rrt = RRT(map,graph1)\n",
        "rrt.rrt()"
      ],
      "metadata": {
        "colab": {
          "base_uri": "https://localhost:8080/",
          "height": 574
        },
        "id": "Yserr4W1y4MN",
        "outputId": "16381ff8-a0f4-4263-9668-381591138b57"
      },
      "execution_count": 55,
      "outputs": [
        {
          "output_type": "display_data",
          "data": {
            "text/plain": [
              "<PIL.Image.Image image mode=RGB size=540x540>"
            ],
            "image/png": "[encoded data removed]"
          },
          "metadata": {}
        },
        {
          "output_type": "stream",
          "name": "stdout",
          "text": [
            "23423.597035476607\n"
          ]
        }
      ]
    },
    {
      "cell_type": "code",
      "source": [
        "class RRTStar(RRT):\n",
        "  def __init__(self, map, graph):\n",
        "    super().__init__(map,graph)\n",
        "    # self.colour = colour\n",
        "    self.rewireRadius = 10\n",
        "    self.finalCost = 0\n",
        "    self.endNode = None\n",
        "\n",
        "  def backtractRRTStar(self, colour):\n",
        "    curr = self.endNode\n",
        "    while(curr.id != 0):\n",
        "      curr.optimFlag = True\n",
        "      self.finalCost += curr.cost\n",
        "      parent = self.graph.vertices[curr.parent]\n",
        "      self.map.connectFinalPath(colour, (parent.x,parent.y), (curr.x, curr.y))\n",
        "      curr = parent\n",
        "\n",
        "  def rewire(self):\n",
        "    currCost = self.parent.cost + np.linalg.norm(self.parent.array - self.currSample.array)\n",
        "    dist = np.linalg.norm(self.graph.pointsArray - self.currSample.array, axis = 1).reshape(-1,)\n",
        "    flag = False\n",
        "\n",
        "    for i in range(dist.shape[0]):\n",
        "      if(dist[i] <= self.rewireRadius):\n",
        "        newParent = self.graph.vertices[i]\n",
        "        newCost = newParent.cost + np.linalg.norm(newParent.array - self.currSample.array)\n",
        "        if(newCost < currCost and self.newObstacleFree(newParent)):\n",
        "          if(self.parent.optimFlag == True):\n",
        "            flag = True\n",
        "            self.parent.optimFlag = False\n",
        "            newParent.optimFlag = True\n",
        "\n",
        "          self.parent = newParent\n",
        "          currCost = newCost\n",
        "\n",
        "    self.graph.addNode(self.parent, self.currSample)\n",
        "\n",
        "    if(flag):\n",
        "      if(self.is_Goal_Reached()):\n",
        "        self.endNode = self.currSample\n",
        "      self.backtractRRTStar(self.map.YELLOW)\n",
        "      self.map.showMap()\n",
        "\n",
        "  def newObstacleFree(self,new_parent):\n",
        "    for obs in self.map.obstacles:\n",
        "        if obs.isIntersecting(new_parent,self.currSample):\n",
        "            return False\n",
        "    return True\n",
        "\n",
        "  def rrtStar(self):\n",
        "    i = 0\n",
        "    while(not self.is_Goal_Reached()):\n",
        "      i += 1\n",
        "      self.sampleRandom()\n",
        "\n",
        "      while(self.checkCollision() is None):\n",
        "        self.sampleRandom()\n",
        "\n",
        "      self.rewire()\n",
        "      # self.graph.addNode(self.parent, self.currSample)\n",
        "      self.map.drawSample(self.currSample.x, self.currSample.y)\n",
        "      self.map.connectNodes((self.parent.x, self.parent.y), (self.currSample.x, self.currSample.y))\n",
        "      if(i % 20 == 0):\n",
        "        self.map.showMap()\n",
        "\n",
        "    self.graph.addNode(self.parent, self.currSample)\n",
        "    self.endNode = self.currSample\n",
        "    self.backtractRRTStar(self.map.YELLOW)\n",
        "    self.map.showMap()\n",
        "    print(self.finalCost)\n"
      ],
      "metadata": {
        "id": "ZW4YODY9RHeS"
      },
      "execution_count": 62,
      "outputs": []
    },
    {
      "cell_type": "code",
      "source": [
        "## RRT STAR\n",
        "map.map = MAP.copy()\n",
        "graph2 = Graph(start,goal)\n",
        "rrt_star = RRTStar(map,graph2)\n",
        "rrt_star.rrtStar()"
      ],
      "metadata": {
        "colab": {
          "base_uri": "https://localhost:8080/",
          "height": 574
        },
        "id": "HtkY3Ke20VEQ",
        "outputId": "cd63323c-fb40-4e60-f800-bc9e4215ee36"
      },
      "execution_count": 63,
      "outputs": [
        {
          "output_type": "display_data",
          "data": {
            "text/plain": [
              "<PIL.Image.Image image mode=RGB size=540x540>"
            ],
            "image/png": "[encoded data removed]"
          },
          "metadata": {}
        },
        {
          "output_type": "stream",
          "name": "stdout",
          "text": [
            "17700.0\n"
          ]
        }
      ]
    }
  ]
}